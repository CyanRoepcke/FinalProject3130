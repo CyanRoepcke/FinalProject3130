{
 "cells": [
  {
   "cell_type": "code",
   "execution_count": 1,
   "metadata": {},
   "outputs": [],
   "source": [
    "import numpy as np\n",
    "import pandas as pd\n",
    "import random\n",
    "\n",
    "import matplotlib.pyplot as plt\n",
    "%matplotlib inline\n",
    "from matplotlib import colors\n",
    "from matplotlib import animation\n",
    "from matplotlib import rc\n",
    "rc('animation', html='html5')\n",
    "\n",
    "cmap = colors.ListedColormap(['White','Blue','Green','Red'])"
   ]
  },
  {
   "cell_type": "code",
   "execution_count": 2,
   "metadata": {},
   "outputs": [],
   "source": [
    "class Animal:\n",
    "    \n",
    "    # requried variables: needed for subclasses\n",
    "    location = [0,0]\n",
    "    stepSize = 1\n",
    "    mapSize = 0\n",
    "    foodEaten = 0\n",
    "    hunger = 0\n",
    "    maxHunger = 0\n",
    "    probRepro = 0\n",
    "    sense = 1\n",
    "    alive = True\n",
    "    beStill = False\n",
    "    \n",
    "    def __init__(self, mapSize, stepSize=None, location=None, maxHunger = 1000):\n",
    "        \n",
    "        if location == None:\n",
    "            location = [np.random.randint(0, mapSize), np.random.randint(0, mapSize)]\n",
    "        self.location = location\n",
    "                \n",
    "        self.mapSize = mapSize\n",
    "        self.foodEaten = 0\n",
    "        self.hunger = 0\n",
    "        self.alive = True\n",
    "        self.maxHunger = maxHunger\n",
    "        \n",
    "    def step(self):\n",
    "        self.hunger = self.hunger + 1\n",
    "        #move once for every stepSize\n",
    "        for i in range(0, self.stepSize):\n",
    "            \n",
    "            #one for each direction\n",
    "            direct = np.random.randint(0,8)\n",
    "            \n",
    "            # if the direction is 1,0,7 move x by +1\n",
    "            if ((direct==0) or (direct==1) or (direct==7)):\n",
    "                self.location[0] = self.location[0] + 1\n",
    "                \n",
    "            # if the direction is 1,2,3 move y by +1\n",
    "            if ((direct==1) or (direct==2) or (direct==3)):\n",
    "                self.location[1] = self.location[1] + 1\n",
    "                \n",
    "            # if the direction is 3,4,5 move x by -1\n",
    "            if ((direct==3) or (direct==4) or (direct==5)):\n",
    "                self.location[0] = self.location[0] - 1\n",
    "                \n",
    "            # if the direction is 5,6,7 move y by -1\n",
    "            if ((direct==5) or (direct==6) or (direct==7)):\n",
    "                self.location[1] = self.location[1] - 1\n",
    "        self.locationCheck()\n",
    "            \n",
    "    # check if location needs to wrap\n",
    "    def locationCheck(self):\n",
    "        \n",
    "        for i in range(0,2):\n",
    "            if (self.location[i] >= self.mapSize):\n",
    "                self.location[i] = self.location[i] - self.mapSize\n",
    "            elif (self.location[i] < 0):\n",
    "                self.location[i] = self.mapSize - abs(self.location[i])\n",
    "    "
   ]
  },
  {
   "cell_type": "code",
   "execution_count": 3,
   "metadata": {},
   "outputs": [],
   "source": [
    "class Food:\n",
    "    location = []\n",
    "    eaten = False\n",
    "    mapSize = 0\n",
    "    \n",
    "    def __init__(self, mapSize, location = None):\n",
    "        \n",
    "        if location == None:\n",
    "            location = [np.random.randint(0, mapSize), np.random.randint(0, mapSize)]\n",
    "        self.location = location\n",
    "        \n",
    "        self.mapSize = mapSize"
   ]
  },
  {
   "cell_type": "code",
   "execution_count": 4,
   "metadata": {},
   "outputs": [],
   "source": [
    "class Rabbit(Animal):\n",
    "    \n",
    "    probRepro = 0.5\n",
    "    litter = 1                                     # Edit this value?\n",
    "    species = 'Rabbit'\n",
    "    eatMush = False\n",
    "    \n",
    "    def reproduced(self, rabbit2):\n",
    "        self.hunger = self.hunger * 1.25           # Edit this value?\n",
    "        rabbit2.hunger = rabbit2.hunger * 1.25     # Edit this value?\n",
    "        \n",
    "    def interactRabbit(self, rabbit, animalArray):\n",
    "        together = False\n",
    "        if not rabbit.beStill:\n",
    "            together = vicinityCheck(self, rabbit)\n",
    "        if together:\n",
    "            if ((np.random.rand() < self.probRepro)):\n",
    "                for i in range(0, self.litter):\n",
    "                    self.reproduce(animalArray, self)\n",
    "                self.reproduced(rabbit)\n",
    "        \n",
    "    def interactMushroom(self, mushroom):\n",
    "        together = vicinityCheck(self, mushroom)\n",
    "        if together:\n",
    "            mushroom.eaten = True\n",
    "            self.hunger = self.hunger / 1.25       # Edit this value?\n",
    "    \n",
    "    def reproduce(self, animalArray, animal):\n",
    "#         animalArray.append(Rabbit(self.mapSize, stepSize=self.stepSize, location=self.location))\n",
    "#         animalArray[-1].step()\n",
    "        x = self.location[0]\n",
    "        y = self.location[1]\n",
    "        animalArray.append(Rabbit(self.mapSize, stepSize=self.stepSize, location=[x,y]))\n",
    "        print(animalArray[-1].location)\n",
    "        animalArray[-1].step()\n",
    "        print(animalArray[-1].location)\n"
   ]
  },
  {
   "cell_type": "code",
   "execution_count": 5,
   "metadata": {},
   "outputs": [],
   "source": [
    "class Fox(Animal):\n",
    "    \n",
    "    probRepro = 0.3\n",
    "    litter = 1                                         # Edit this value?\n",
    "    species = 'Fox'\n",
    "    \n",
    "    def reproduced(self, fox):\n",
    "        self.hunger = self.hunger * 1.25               # Edit this value?\n",
    "        fox.hunger = fox.hunger * 1.25                 # Edit this value?\n",
    "        \n",
    "    def interactRabbit(self, rabbit):\n",
    "        together = False\n",
    "        if not rabbit.beStill:\n",
    "            together = vicinityCheck(self, rabbit)\n",
    "        if (together):\n",
    "            rabbit.beStill = True\n",
    "            self.hunger = self.hunger / 1.25 # Edit this value?\n",
    "        \n",
    "    def interactFox(self, fox, animalArray):\n",
    "        together = False\n",
    "        if not fox.beStill:\n",
    "            together = vicinityCheck(self, fox)\n",
    "        if together:\n",
    "            if ((np.random.rand() < self.probRepro)):\n",
    "                for i in range(0, self.litter):\n",
    "                    self.reproduce(animalArray, self)\n",
    "                self.reproduced(fox)\n",
    "                \n",
    "    def reproduce(self, animalArray, animal):\n",
    "        x = self.location[0]\n",
    "        y = self.location[1]\n",
    "        animalArray.append(Fox(self.mapSize, stepSize=self.stepSize, location=[x,y]))\n",
    "        print(animalArray[-1].location)\n",
    "        animalArray[-1].step()\n",
    "        print(animalArray[-1].location)"
   ]
  },
  {
   "cell_type": "code",
   "execution_count": 6,
   "metadata": {},
   "outputs": [],
   "source": [
    "class Mushroom(Food):\n",
    "    \n",
    "    species = 'Mushroom'"
   ]
  },
  {
   "cell_type": "code",
   "execution_count": 41,
   "metadata": {},
   "outputs": [],
   "source": [
    "class Ecosystem:\n",
    "    def __init__(self, rows):\n",
    "        self.mapSize = rows\n",
    "        self.grid = np.zeros((rows, rows), dtype=int)\n",
    "        self.foxes_array = []\n",
    "        self.rabbits_array = []\n",
    "        self.mush_array = []\n",
    "        \n",
    "    def createFoxes(self, numFoxes, fox_step_size):\n",
    "        for i in range(numFoxes):\n",
    "            fox = Fox(mapSize=self.mapSize, stepSize=fox_step_size)\n",
    "            self.foxes_array.append(fox)\n",
    "    \n",
    "    def createRabbits(self, numRabbits, rabbit_step_size):\n",
    "        for i in range(numRabbits):\n",
    "            rabbit = Rabbit(mapSize=self.mapSize, stepSize=rabbit_step_size)\n",
    "            self.rabbits_array.append(rabbit)\n",
    "        \n",
    "    def createMushrooms(self, numMushrooms):\n",
    "        for i in range(numMushrooms):\n",
    "            mush = Mushroom(mapSize=self.mapSize)\n",
    "            self.mush_array.append(mush)\n",
    "            \n",
    "    def step(self):\n",
    "        for i in range(len(self.foxes_array)):\n",
    "            self.foxes_array[i].step()\n",
    "        for i in range(len(self.rabbits_array)):\n",
    "            self.rabbits_array[i].step()\n",
    "            \n",
    "    def mapToGrid(self):\n",
    "        self.grid = np.zeros((self.mapSize, self.mapSize), dtype=int)\n",
    "\n",
    "        # map a mushroom if its still not eaten\n",
    "        for i in range(len(self.mush_array)):\n",
    "            if not self.mush_array[i].eaten:\n",
    "                x = self.mush_array[i].location[0]\n",
    "                y = self.mush_array[i].location[1]\n",
    "                self.grid[x, y] = 1\n",
    "        print(i)\n",
    "        # map a rabbit to grid if its alive\n",
    "        for i in range(len(self.rabbits_array)):\n",
    "            if not self.rabbits_array[i].beStill:\n",
    "                x = self.rabbits_array[i].location[0]\n",
    "                y = self.rabbits_array[i].location[1]\n",
    "                self.grid[x, y] = 2\n",
    "        print(i)\n",
    "        # map a fox to grid if its alive\n",
    "        for i in range(len(self.foxes_array)):\n",
    "            if not self.foxes_array[i].beStill:\n",
    "                x = self.foxes_array[i].location[0]\n",
    "                y = self.foxes_array[i].location[1]\n",
    "                self.grid[x, y] = 3\n",
    "        print(i)\n",
    "        return self.grid\n",
    "    \n",
    "    def plotGrid(self, grid):\n",
    "        plt.imshow(grid[::-1],cmap=cmap)\n",
    "        #off = plt.axis(off)\n",
    "        \n",
    "    def animate(self, numSteps=20):\n",
    "        fig = plt.figure()\n",
    "\n",
    "        grid = self.mapToGrid()\n",
    "        img = plt.imshow(grid[::-1],cmap=cmap, animated=True)\n",
    "\n",
    "        ims = []\n",
    "        for step in range(numSteps):\n",
    "            self.step()\n",
    "\n",
    "            # check interactions\n",
    "            ## TODO: UPDATE THESE\n",
    "            self.checkInteractions()\n",
    "            #foxes_array, rabbits_array, mush_array = removeTheDead(foxes_array, rabbits_array, mush_array)\n",
    "\n",
    "            # plot stuffs\n",
    "            grid = self.mapToGrid()\n",
    "            img = plt.imshow(grid[::-1],cmap=cmap, animated=True)\n",
    "            ims.append([img])\n",
    "\n",
    "        return animation.ArtistAnimation(fig, ims, interval=50, blit=True,\n",
    "                                        repeat_delay=1000)\n",
    "    \n",
    "    def checkInteractions(self):\n",
    "        # only want to loop through existing animals / mushrooms\n",
    "        currRabbits = len(self.rabbits_array)\n",
    "        currFoxes = len(self.foxes_array)\n",
    "        currMush = len(self.mush_array)\n",
    "    \n",
    "        print(\"Rabbits\")\n",
    "        # check rabbit interactions\n",
    "        for i in range(currRabbits):\n",
    "            rabbit = self.rabbits_array[i]\n",
    "            # does the rabbit reproduce\n",
    "            for j in range(currRabbits):\n",
    "                if j != i:\n",
    "                    rabbit.interactRabbit(self.rabbits_array[j], self.rabbits_array)\n",
    "            # does the rabbit eat a mushroom\n",
    "            for k in range(currMush):\n",
    "                rabbit.interactMushroom(self.mush_array[k])\n",
    "    \n",
    "        print(\"Foxes\")\n",
    "        # check fox interactions\n",
    "        for i in range(currFoxes):\n",
    "            fox = self.foxes_array[i]\n",
    "            # does the fox reproduce\n",
    "            for j in range(currFoxes):\n",
    "                if j != i:\n",
    "                    fox.interactFox(self.foxes_array[j], self.foxes_array)\n",
    "            # does the fox eat a rabbit\n",
    "            for k in range(currRabbits):\n",
    "                fox.interactRabbit(self.rabbits_array[k])"
   ]
  },
  {
   "cell_type": "code",
   "execution_count": 38,
   "metadata": {},
   "outputs": [],
   "source": [
    "def hungerCheck(animalArray):\n",
    "        \n",
    "    everyoneDead = True\n",
    "    maxHunger = animalArray[0].maxHunger\n",
    "    \n",
    "    for i in range(0, len(animalArray)):\n",
    "        \n",
    "        hunger = animalArray[i].hunger\n",
    "        \n",
    "        if hunger > maxHunger:\n",
    "            animalArray[i].beStill = True\n",
    "        else:\n",
    "            everyoneDead = False\n",
    "            \n",
    "    return animalArray, everyoneDead\n",
    "\n",
    "def vicinityCheck(animal1, animal2):\n",
    "    \n",
    "    a1X = animal1.location[0]\n",
    "    a1Y = animal1.location[1]\n",
    "    a2X = animal2.location[0]\n",
    "    a2Y = animal2.location[1]\n",
    "    sense = animal1.sense\n",
    "    nearby = False\n",
    "    \n",
    "    for i in range(-sense, (sense+1)):\n",
    "        if (a1X == (a2X + i)):\n",
    "            for j in range(-sense, (sense+1)):\n",
    "                if (a1Y == (a2Y + j)):\n",
    "                    nearby = True\n",
    "                    break\n",
    "    return nearby"
   ]
  },
  {
   "cell_type": "code",
   "execution_count": 9,
   "metadata": {},
   "outputs": [],
   "source": [
    "# def checkInteractions(foxes_array, rabbits_array, mush_array):\n",
    "#     # only want to loop through existing animals / mushrooms\n",
    "#     currRabbits = len(rabbits_array)\n",
    "#     currFoxes = len(foxes_array)\n",
    "#     currMush = len(mush_array)\n",
    "\n",
    "#     # check rabbit interactions\n",
    "#     for i in range(currRabbits):\n",
    "#         rabbit = rabbits_array[i]\n",
    "#         # does the rabbit reproduce\n",
    "#         for j in range(currRabbits):\n",
    "#             if j != i:\n",
    "#                 rabbit.interactRabbit(rabbits_array[j], rabbits_array)\n",
    "#         # does the rabbit eat a mushroom\n",
    "#         for k in range(currMush):\n",
    "#             rabbit.interactMushroom(mush_array[k])\n",
    "\n",
    "#     # check fox interactions\n",
    "#     for i in range(currFoxes):\n",
    "#         fox = foxes_array[i]\n",
    "#         # does the fox reproduce\n",
    "#         for j in range(currFoxes):\n",
    "#             if i != k:\n",
    "#                 fox.interactFox(foxes_array[j], foxes_array)\n",
    "#         # does the fox eat a rabbit\n",
    "#         for k in range(currRabbits):\n",
    "#             fox.interactRabbit(rabbits_array[k])\n",
    "            \n",
    "#     return foxes_array, rabbits_array, mush_array"
   ]
  },
  {
   "cell_type": "code",
   "execution_count": 10,
   "metadata": {},
   "outputs": [],
   "source": [
    "def removeTheDead(foxes_array, rabbits_array, mush_array):\n",
    "    #check if animals have died of starvation\n",
    "    foxes_array, eDead = hungerCheck(foxes_array)\n",
    "    rabbits_array, eDead = hungerCheck(rabbits_array)\n",
    "    \n",
    "    # remove dead animals\n",
    "    foxes_array = [ fox for fox in foxes_array if not fox.beStill]   \n",
    "    rabbits_array = [ rabbit for rabbit in rabbits_array if not rabbit.beStill]\n",
    "    \n",
    "    # remove mushrooms that have been eaten\n",
    "    mush_array = [ mush for mush in mush_array if not mush.eaten]\n",
    "    \n",
    "    return foxes_array, rabbits_array, mush_array"
   ]
  },
  {
   "cell_type": "code",
   "execution_count": 44,
   "metadata": {},
   "outputs": [
    {
     "name": "stdout",
     "output_type": "stream",
     "text": [
      "19\n",
      "9\n",
      "4\n"
     ]
    },
    {
     "data": {
      "image/png": "[encoded data removed]",
      "text/plain": [
       "<matplotlib.figure.Figure at 0x7f5056e1d470>"
      ]
     },
     "metadata": {},
     "output_type": "display_data"
    }
   ],
   "source": [
    "## Declarations\n",
    "rows=20\n",
    "\n",
    "eco = Ecosystem(rows)\n",
    "\n",
    "#Population of Species\n",
    "numFoxes=5\n",
    "numRabbits=10\n",
    "numMushrooms=20\n",
    "\n",
    "rabbit_step_size=8\n",
    "fox_step_size=4\n",
    "\n",
    "## Initialise and Spawn Foxes & Rabbits\n",
    "    \n",
    "# Foxes\n",
    "eco.createFoxes(numFoxes, fox_step_size)\n",
    "    \n",
    "# Rabbits\n",
    "eco.createRabbits(numRabbits, rabbit_step_size)\n",
    "    \n",
    "# Mushrooms\n",
    "eco.createMushrooms(numMushrooms)\n",
    "\n",
    "# Show the initial state of the forest\n",
    "data = eco.mapToGrid()\n",
    "eco.plotGrid(data)"
   ]
  },
  {
   "cell_type": "code",
   "execution_count": 45,
   "metadata": {},
   "outputs": [
    {
     "name": "stdout",
     "output_type": "stream",
     "text": [
      "19\n",
      "9\n",
      "4\n",
      "Rabbits\n",
      "Foxes\n",
      "19\n",
      "9\n",
      "4\n",
      "Rabbits\n",
      "Foxes\n",
      "19\n",
      "9\n",
      "4\n",
      "Rabbits\n",
      "Foxes\n",
      "19\n",
      "9\n",
      "4\n",
      "Rabbits\n",
      "Foxes\n",
      "19\n",
      "9\n",
      "4\n",
      "Rabbits\n",
      "[19, 3]\n",
      "[19, 2]\n",
      "Foxes\n",
      "19\n",
      "10\n",
      "4\n"
     ]
    },
    {
     "data": {
      "image/png": "[encoded data removed]",
      "text/plain": [
       "<matplotlib.figure.Figure at 0x7f5054ec0cc0>"
      ]
     },
     "metadata": {},
     "output_type": "display_data"
    }
   ],
   "source": [
    "frames = 5\n",
    "anim = eco.animate(frames)"
   ]
  },
  {
   "cell_type": "code",
   "execution_count": 46,
   "metadata": {},
   "outputs": [
    {
     "data": {
      "text/html": [
       "<video width=\"432\" height=\"288\" controls autoplay loop>\n",
       "  <source type=\"video/mp4\" src=\"data:video/mp4;base64,AAAAHGZ0eXBNNFYgAAACAGlzb21pc28yYXZjMQAAAAhmcmVlAAAZ0W1kYXQAAAKuBgX//6rcRem9\n",
       "5tlIt5Ys2CDZI+7veDI2NCAtIGNvcmUgMTQ4IHIyNjQzIDVjNjU3MDQgLSBILjI2NC9NUEVHLTQg\n",
       "QVZDIGNvZGVjIC0gQ29weWxlZnQgMjAwMy0yMDE1IC0gaHR0cDovL3d3dy52aWRlb2xhbi5vcmcv\n",
       "eDI2NC5odG1sIC0gb3B0aW9uczogY2FiYWM9MSByZWY9MyBkZWJsb2NrPTE6MDowIGFuYWx5c2U9\n",
       "MHgzOjB4MTEzIG1lPWhleCBzdWJtZT03IHBzeT0xIHBzeV9yZD0xLjAwOjAuMDAgbWl4ZWRfcmVm\n",
       "PTEgbWVfcmFuZ2U9MTYgY2hyb21hX21lPTEgdHJlbGxpcz0xIDh4OGRjdD0xIGNxbT0wIGRlYWR6\n",
       "b25lPTIxLDExIGZhc3RfcHNraXA9MSBjaHJvbWFfcXBfb2Zmc2V0PS0yIHRocmVhZHM9NiBsb29r\n",
       "YWhlYWRfdGhyZWFkcz0xIHNsaWNlZF90aHJlYWRzPTAgbnI9MCBkZWNpbWF0ZT0xIGludGVybGFj\n",
       "ZWQ9MCBibHVyYXlfY29tcGF0PTAgY29uc3RyYWluZWRfaW50cmE9MCBiZnJhbWVzPTMgYl9weXJh\n",
       "bWlkPTIgYl9hZGFwdD0xIGJfYmlhcz0wIGRpcmVjdD0xIHdlaWdodGI9MSBvcGVuX2dvcD0wIHdl\n",
       "aWdodHA9MiBrZXlpbnQ9MjUwIGtleWludF9taW49MjAgc2NlbmVjdXQ9NDAgaW50cmFfcmVmcmVz\n",
       "aD0wIHJjX2xvb2thaGVhZD00MCByYz1jcmYgbWJ0cmVlPTEgY3JmPTIzLjAgcWNvbXA9MC42MCBx\n",
       "cG1pbj0wIHFwbWF4PTY5IHFwc3RlcD00IGlwX3JhdGlvPTEuNDAgYXE9MToxLjAwAIAAAA4oZYiE\n",
       "ADf//vbw/gU2O5jQlxHN6J0zH78VuLo0N73OAAADAAA33OZE/sqTBubAAALiMJ07uxshmAIsBaJG\n",
       "prqlZpovswP0tOqys9g5WG/ojSVDk8wka+vD2K+a8PwNgpxx6i8CcRcSkFUbzsLWOUYlNPvxpM62\n",
       "KH11V8y3BVZ6RnAeanqckTdFdlMPsUIiH+F3obindBoN5nXjHDzWKqIiqLes1OCEBzuG27gr6nYv\n",
       "rKgRxfI7MST2Ejhvw20XJ/qEZX+SJ8vWn1QIHor1gvxo2KIuYgkB2VYsUXd9p/roip+kS/zj81Ts\n",
       "dx97nNBON/WMY/Nbjr60lB5w84jnyjbo6cG95uU8/3g4Z0bRJ6v+1y1/rwbgxTl81iWQ5UQEHvA/\n",
       "kNjGf9FQDkXRI+jyqzSBKwI+kuAgD12D589Oc5I/qWCm86Lc2ereP+jUyXd7yQk2e15qXJmoQIgF\n",
       "bUZa/oskIDa4M78vMKEvh9RgQoZM553k+TsqURryii2iGP5f8FrBzEyp/1csKColyL726MkFod8w\n",
       "wTjIJedXlT7uAFAWx17mIxC0fdPON7/u9NFCOD05uRn7WtEUVKZBEhFy3+7VHGlUNfV+M855BwZL\n",
       "vjVEzRNUsz2TljqFIChaIursQXLK+garu6e7sSosEqj5jApRZ5IZDQ6ppbENtDwz8z4/9y8hemtQ\n",
       "WfD638RdVt7guVCS8lFEfeFtwx1hmyiaGXHhSI8/C2Fmfrzd5JYOAjmb6en4w38treULXvsxd++r\n",
       "lIvRzF9ssVi6M8pLy2z1AQQ1Pjeeq1KRrhD5P/ivLmwGXtqKja82O3TwkDQfetYgH8tAeva3JSZS\n",
       "Url2Gq7wu7FTSqBPfGzKYeIUEtTkTWp+8ny+3etJNtUwjTs2IjwPGjg0HIzYdtwE4mtPHzuyFzOp\n",
       "X1GNXoUnmEfUXc6oLuoa8rfAvF7NTJU+BVHsuQgesrPc/FqSL9jKvWqd1G1YrZFc5m02iQC8AH+i\n",
       "2uumWsy34q+DLYZA48ALxq2Kg0RBodLlC+g6lUaosv6OIox7D8lAHDyh+p9Xx01S39jVqvTJjvyz\n",
       "zleh5zMe74ZzzHeaMKba4fdcZ/fPfmygfsj2wCqIYorSni5Y5psAN1JJGXR05AAFsFZ6TGDj61FM\n",
       "lUrmekSkln9qhSIYLB283Xr5ovUwIBF4DyckY3oyFEAAbLGXbcuhXOcNELiIjdjRY3D2iOFmNfyU\n",
       "ZCklC1Am5YYxypYTK55wDpyPKpNszlKbWc7ai9Cg+KoZdVS1gLPVw/FBdzyjhvJ8cf9wecORR9vp\n",
       "O5voVVtp9T0DPvZkkQbl/s9T4zKNia3edEO1ZQySwT8dBIRNMoYxjGYYwo0Jk4O28yAspqpwY7My\n",
       "c5JU/JMqtxqZyoSP7n7n5Zi+Cr+W5KEv72hKAdS+UG371C8EMweJIRwZlkUq08n4GDmQwf1o3/Hd\n",
       "203r3F1B3/WRKwkl+ug2ALFdGTZ/ldeQuefxROD5ADgbVyDxeTdqNDoGODQkoCKpIFih7isABwWV\n",
       "Vq9XDY3cjNNAH2J5sBGzYEbw9xrq2MuUZ7b7BgHGCBe45t0cSavg3Uru70zAWNlv+x+y4Cczq6FI\n",
       "c8wEipnftCrOIvBmAd+FA9vKczQ4xP6tNbdJZb5mVYCmG7yTTeIW83iF3VzS/SfX4KfPek00ZTmA\n",
       "e/QV4LL3HBtp3tywdDpOpS4PuYti7Y0DU3NJTqYUigy2ipiaXbLbd3GkrBaPNi2DvuswRyC/oBmN\n",
       "FVd5mrHciWnW4uRIek9i3c2Tu8vVYdgB65PWaB2lK5IO3PdhT3FagzZPvS+ZKpAhn1cvhF67/8T/\n",
       "kkgEPPLyG5Xe4Tq2rgvx+KOihS6Dkk8NYAVFJodwjBP2r4mcvYlf1QMfHAS6qbQkXPNRMoxBicvv\n",
       "gGkvSUenR010ZSrEQfU0hMIzLEi2fUgVupK1HVI8lQfOeh+7FtYknyiocLbmHABDruDms0fcBf6B\n",
       "5y8lC8zvzUJqfsqnxxXt7pFFMRb/9/kM4774ddc4fKLdkFpg08nev+dTD5dlZ+l0AFPcJ6nW7/Fu\n",
       "a7CRCgdsvjPXOjWXrQuPr+bq+ekRm16r8TPt3awwEBQIDywScEqlLiUQ5eaV+DeresQlOSlSZfSk\n",
       "0YOswuuJM3dVu4sekGJHaYLicY4BdrfLeTCETZTMaNUIPRelIuBVXIMRZv9EBNXuNwGz7ohwdgpy\n",
       "3V+FxDjmBkC3lf3VQdt2XPVHHlcY2jL3aoVcEUVgs3qis2vqw8XHUmB/bB7eKvNUTOBkpf/OK9DT\n",
       "ns+o4IdD8+c3WmNCqb2CJkrl+BVVeh532pUrvvgTs4LW3e8NS3DWxkDO6umXJQBHR8b064VHovJP\n",
       "wMA2eR0z9bhpGoWQdMfLFcQs0hcn1rRHMmrqlNAvDxVIsgtD6WZzoELP1IjPfs76UFkdAa8LKgTd\n",
       "3BNLDZsAa2qum4GYObnxfUKtNAJjgXgEAAw9ruXlVX33FtH2IolasBGoKfwKwXQuIIwQ1GNTPbnr\n",
       "ejhYQ3XrgkEYBZlOsIHhDjP/yXAecZLNYhlZUCe8Rses1VUydSuyqMSUK43KOwBC+zrJHPW167gO\n",
       "LNrOsTIpp/jg9fMgkhdGp0OIwkf3GTSWognDv2oabqq3QWmOYb+4vW41WbJPU5vL1BkhIorBUYE5\n",
       "+hICzXRHm+6o1G2VWRW+SQvIWWPv+soHA5AIC/eFWwOLuUXnobUwqE2z8n+Wm6KGFbHdQAt665Fi\n",
       "QjZAPQMZGuK/v3SV3QRBxfogDsejNLu7mKVSQfKF8qN+H50vqrwAmstqcl2KYonBM9ply4UVbv5l\n",
       "UH16Az3LKRLJJHyHkqdNt4DpRPV5/ck6pTu1bJ328r7OtwVShLgHtRjskWI+VMzrUf6XDm3Yxl9D\n",
       "XVhfD/C01p3lIy/+DgltJLbKxag/HXNBKXwAlIg4wh+gA84suJ7ZM3nNT0aXlF7v9riWFoYFJo1g\n",
       "vGAPGnkzxQdJFh/QeWPj4bmsNxpokPb9007wa97SZAlaPDmGCo0L5UPlLE7VxZHUJb66j/wcysqv\n",
       "C3slDIFAeyvLI0H9PNopEMOr7ey1ytZNQL9Zjo8sjKGEfsjYwhhJZ3d5uDP2mEi9bSMeWgB/FKgj\n",
       "f2AnZy1h7NnAMPkg7mPm6o9CDtatsMsK/EtRtwS7FE1LRY+40jFhNuTIqGuKpbSVN3JwXTttaPlk\n",
       "+Za1Qq7Tx5LpRpSWCTKxhXV5kchUVihTDX2s1GsXklcJEJ6ydvgGclSoajK5dvJ57m96fc9DNINz\n",
       "qrpt+n9EaNCdiLG+oEwvYT6CN74arlOMD5JHnrgj7gb70001b6Xv9R9aFgMdkkUCKxP+amspmngl\n",
       "mQuWFnzm/1Bv2ID3Yh65HE4WaEWFKNn0Aitsh8GzCMbB9Q3VEgWuunZ7+TjBEj/88KiBPkeJxYBP\n",
       "gi4DcNDLBwmH4bGHul5blmWI8F003y5ssPqQ5ZRO92og9uUQiXt/hZg9rJOPCnre7XrbGbM8Xz0L\n",
       "KOcabzAJB9Xw9Ia0ICrUIqS3XLd5FXjt5lO2CY/3fpaPLt8AvpFsd7vROtH/VcAgomamdfYfRNCl\n",
       "1peHJ/LRNeglsSHmWLyzHpKDcjSeQtaEy0WvXZiwHHtu/EITihIVpZThUewsHu+2pj0R/dNGfee0\n",
       "LD22axVUxmtReuPYtwPksJEDlgUhadoQTJtAIHR85uJezG2VoJABBDBhl6n2eePYB5XUTT4oeEj/\n",
       "I7RD+Aig5IoPYYj94CzfEjQtzS6oYCPVBO7ZC8GMxFHerg6wrhmYf0qmoFwO2l2SKQiI66lM6x4s\n",
       "0X3VtA2by2dE1EKGltrHF325/j73dbti4T9SYJQC0AJyDOGymurTDKLIQg47GAA+Ulsb08ulhFpl\n",
       "MJ5RG/YcTEuTSf2ZydCsBPsq7DjKGCQ5veEgtR5j57c/BWS5BmBfVV0O04ZO3ccb4DK/3NvCLezk\n",
       "zeKkQwNdbWnQlxlTdW+zTIoUnM/Rlq8UFRSc/c9Og5bd3IrEP+XXzlehef5KFJIttsARpfa8cuJx\n",
       "kGeqP/2oqKD2L/yehsbQ8okP/hkTplqGbqZbrF9v+FMccLkeaqzoobWK/SlkXh8svMVqnDu7flPt\n",
       "E5WT/k4DnmCkA0bEDMI2LbOc+KA5I/wZzjMFXAwmA5ZrAh/Pl07OuxYM0v82emq3OeU8Ag3pQmDw\n",
       "NsMZEYMK9eLetm4PQzwMjaA6ymDN2L5X0qUxQV2KMxb7WL6T+Qjzk0jw6+cTUIyepIjuRm9NSwNL\n",
       "14NPIpLtTk29NUhKJbCc9jscOwzgH6sBzi/ZdhZ/+8zp7MFhZ/P8BK98TNUKKJVG10ofpGCn0otK\n",
       "xFEyYWh/HfT+HS/iLeDlVCoHEfma5qupq9wkDul2C/CHXl9TJjptl7qkdxeXLe/1MMyPOvE/GF4a\n",
       "oO4/JWUnQ+f6WEKmA262NpoAPLolcBOhPiXRxnX2ryXT1VzmGdFbCY+TqEmGpd9tEtgRj5SKlA1l\n",
       "nHKi/D66XqC8F82r9M1KxwxfGa8Tq2SLv8THiJm8wSH/OfQ9ciPyWYQ6MIUFfXegrr6fp4yE1ak3\n",
       "JiZFbYqHGtZXlaexNiRr3t2HtvGpxDyAubNZrSnuGMGHHdIXusEv9kN3GVyl2Bm/Dc6LurhktByI\n",
       "kS0Wu9RMLD7Derx1/dShEQ1of7SVY4Kkwy4QPOe/gjeR27X9hezoYdz3ak2RTVeQEOqZaHsvzeVs\n",
       "5HOqn+CdgCUUlpT59KEVTkpV5fjqt7739SjilHA6kOc8O6JUI6ubX2smxSWi0IKIv2Vmalw097qx\n",
       "+HO2Q9b2t/yi8KxBrTYeNHBajX6kkF4aACyCKgopAAAC70GaIWxDf/6nhApOlGgtBWIen+C80SHs\n",
       "cfkm50wCijm3S2lc5Fqq7fNPbEyi/5Yzrxo/zoWE5Gw//w/HzRfZrfLMqjX+NhDzwzmlJMd/nmUb\n",
       "SwMQWdSQGMZ9EPVmAT0OghK0WrzOCjc9aDfnQ3XumVKnitivcmOYWWk0NjAftLCe4QzecdUFeboL\n",
       "ZGeoBf+sWPx6ZOuMZpWqQGnL4bRWXOhBID7FG5kMbrwUvKTU8Yyol/hVgaidUz8nRLh8BCFUPehq\n",
       "uvmZ2ncP8AYDPPS7FXQiGFU5jrl/k/odUHO64NDYXrfcSRcVQYTjK19HLIV1x0EZh5+hmZD4BGJf\n",
       "xk61TT0TFaauIamUyPq2jIq+pTyztKh05w2jbOuSlBd58SI3PEyielmKEJltv/cExOSEp+Qd/s8C\n",
       "N+R+rzbnmgXUHxAeffr+jETGYl1IqeVjjHsIKDEESyyWpg1VaiAYtBQDLwU6Gb9Fhtg9IDujDf2b\n",
       "UthuKe17C7Aag/InanAE88Is6IML7R6stzabd6joEfDrU+sCM18rBYwWVTQ4pnlPxdLAq7KwnzAx\n",
       "knOWOlIgvsZrYAzzmZwxY/7PkSpm+5EhDAEA6vqGGiHAEU44yy7r5EPcLCS/lzVyP+MFbnm81OKD\n",
       "8YEwW0Dz4n6FMJG2pOq1u+sEUacJSermOAbflKPjdxYo5DkJOjbDnhn6uLZ72O9xsaktPUv/jtNk\n",
       "3Tb4BXAQnMIvr/WnEvLEOnnzCrBKvylQ08WzBocNyH/369ZbTmRUoL5i/ioxpH0Pm54I06ZvCPIH\n",
       "3JGXTjB3Lq6NUMXKhSbHr1JHDlHZKKkfYe28d79JkiNWIXEEnF8JIo5FWv0f4sa7WT9lS1gV7T6R\n",
       "w2i8eZC0dRqJRMf1Vph5MXY3FbuEQTK/6t+Ba/k4aTcma2Y7LIWCspTwTqH5lf8PI5JRCMILXg/u\n",
       "FRSQIL98CaE5A3Nj3SQxqnZ/BxMIwvRHHILi9tyB+Zu9ifcMWr2IrBG+zDgAAALFQZpEPCGTKYQr\n",
       "//44QBgq4fwkfZkMAG1CsXQ5nVKod8xfPa306GO9NcHx3g2gEYmKWj3FO8VE/dMa02tjcobzE66t\n",
       "AGOb3ik4snm9xpYiX2o4cKbdzqT0L9QJYvvCOlE7p8sjfiJ1udYcBqgFmdbDC7MFU+T8ssXfQ4u6\n",
       "JkxmfCXGJJsZMfylLTQCYZ9hwZPUyEMrNMpR/5Q+wlt/w0TQC6WtaAGXyYAis6i4gZtc19T+kVS4\n",
       "o42QjKdKFEKpHRQ3nUUqAidcHiYIXj3HHxHzKIgwFpK11AaefqC/8OPJtQhpSs+n/etPAW1mYxNW\n",
       "5FWqc8Fw5OnYxH2TGMeHJqzHTG5ofOgZMcOnNAAhjWE9cLSWZGzd5gxvwojBpivbFXA7Ht7ztwtw\n",
       "02WtmwuFUT5YhxpnsYfTsigzYmUSgfBIhc45yNF6+1Lc2L82ZJ0fib4QiJ9qX5WJLqAk3KcclreJ\n",
       "fcu++kSkmxsJQ+0NZHPYpOeEdLxNizXPrCxT0zob25hEuEH/sstKzPQTdrGB1KY/cCcHOrh9IkTF\n",
       "qT0H6XlWMBDwyf8YqLOn6adbC0QTqE0J2DUSPSCZft3WwSLMGYYb/b1tDWW+hRDEVFjG/M+krcSa\n",
       "MBoPmUp+rbI3IhndRpPn0P7JZsFJydhsU1Vc0Z0CbAaLFogSF1Vgf9ma14rgXNJUYa8o4x7DDJKH\n",
       "poJMyyBsTLrN92DZEIRTYgjywAtOcYwuAvUGRPqJgrsRwVO1xsR2mSrci/KGNNNhy3EIhwH8LaV1\n",
       "NM/ayAML7I//Kk0U/6UK1r38204ARb3OUiy4fRAjBqieynZjrDj+3AEE1VgzxjozLIfzaaMSAQjH\n",
       "amlWn9AAFmbPh3tShm8/bICYvo+Y3uYZhwNEoApbeNaRaZZBGtpE0Iu+SU7VV4MgA57yI7tX8NZd\n",
       "HYKJ5aUzEhWW3RJuci48gQAAAZtBnmNqIV8Cr13MBsQD1So2rvWepZ0w2h7yaIHdWLtZO3PQxJe9\n",
       "RLmoA69jV+0yPrHOGXXvKAEADW3ZtUuGM69Ste1L72Lpg3llrqOxP0q/R6vZbYigq8ycZ2ZzD+s1\n",
       "brzVsdiIKfZ/HrAOeJDdO7shx5MzwDvTFEelY39rPYKoL5edSmgI/f/4a212tdN3tAUrdUgjcBz/\n",
       "V1gPOsjWnPRGj/KVf5jgaRTWIezvahpfId3r2NduZ9Ap9uqNwP3HdnKXtqzG5lFDFJLdD12etE2h\n",
       "3rZ08NBiFgXkHWAsTwHOT1nJGqDyw28YyXClLZJR248GoujI2iD6+E8W0ls0d4yvFHocevVH07iB\n",
       "9614pUlvlql5lMtBSSTIcsS6qO9ELmtgQ7BeLVtn21bqLQd76b9zN8WEr1WtmtKVQxpLIsx7B65e\n",
       "7sgHx3bOjvpE6dA+fa8RJANJYHfNP5sWdIi9bS58Pi33und4plxz/4lGU4N9FLTCh7wB44Sy3vHS\n",
       "3ZnUNlVomj7b7CUDsI/iOJhbMSAgNEJnIkSv7yDRlRAAAAGMAZ6CaRCvATva3+CpLwAJ286OxDH2\n",
       "MHI6IMSkbqRWcEn+BuniRNHSK/urvoOADtej3UerKnXKmA6TkvHi8nCMXDSei7QmONIQ60CdTfd+\n",
       "WoLljPraaoIAUqFMjKeiFV2G57KwkKgh9lqjL7tw2FrP2K0K+XhFDNuN44h/6d8cV/bVByodlN65\n",
       "RnIQx5huTGxJ20bFJh8RO9BOUJHsnN3jdpkJo0l2Ar2qbR4YH/wJJHZIgyStYbtqIcYoavxysUnt\n",
       "Qo7w7eCiClPrRa5sU65Wwk1upaY0PFkgSGXNCJW/+WwFo0te/fGHRuQi9iPYFkp1wDPoYa0KJZGR\n",
       "GB39Gk5yUT1fOXXGcOvuI5xK8CoBmjYqXuJ2dK2yY8qr0hxj+e9IjpnpvNrPka7S2tOruO9nhGxm\n",
       "Q9ztpGx6+64aVBl5mr+tOPQlQaSkAula2pOLiquTvN/LsWGzWCV8xMg1C0xEvYKKs4DtRKjHqYEo\n",
       "uN6gAkNpbSkg7R1Yeel6CTwYmdxeE1vI47ql3LApwJqBAAADYm1vb3YAAABsbXZoZAAAAAAAAAAA\n",
       "AAAAAAAAA+gAAAD6AAEAAAEAAAAAAAAAAAAAAAABAAAAAAAAAAAAAAAAAAAAAQAAAAAAAAAAAAAA\n",
       "AAAAQAAAAAAAAAAAAAAAAAAAAAAAAAAAAAAAAAAAAAAAAAIAAAKMdHJhawAAAFx0a2hkAAAAAwAA\n",
       "AAAAAAAAAAAAAQAAAAAAAAD6AAAAAAAAAAAAAAAAAAAAAAABAAAAAAAAAAAAAAAAAAAAAQAAAAAA\n",
       "AAAAAAAAAAAAQAAAAAGwAAABIAAAAAAAJGVkdHMAAAAcZWxzdAAAAAAAAAABAAAA+gAABAAAAQAA\n",
       "AAACBG1kaWEAAAAgbWRoZAAAAAAAAAAAAAAAAAAAKAAAAAoAVcQAAAAAAC1oZGxyAAAAAAAAAAB2\n",
       "aWRlAAAAAAAAAAAAAAAAVmlkZW9IYW5kbGVyAAAAAa9taW5mAAAAFHZtaGQAAAABAAAAAAAAAAAA\n",
       "AAAkZGluZgAAABxkcmVmAAAAAAAAAAEAAAAMdXJsIAAAAAEAAAFvc3RibAAAALNzdHNkAAAAAAAA\n",
       "AAEAAACjYXZjMQAAAAAAAAABAAAAAAAAAAAAAAAAAAAAAAGwASAASAAAAEgAAAAAAAAAAQAAAAAA\n",
       "AAAAAAAAAAAAAAAAAAAAAAAAAAAAAAAAAAAAABj//wAAADFhdmNDAWQAFf/hABhnZAAVrNlBsJaE\n",
       "AAADAAQAAAMAoDxYtlgBAAZo6+PLIsAAAAAcdXVpZGtoQPJfJE/FujmlG88DI/MAAAAAAAAAGHN0\n",
       "dHMAAAAAAAAAAQAAAAUAAAIAAAAAFHN0c3MAAAAAAAAAAQAAAAEAAAAwY3R0cwAAAAAAAAAEAAAA\n",
       "AgAABAAAAAABAAAIAAAAAAEAAAQAAAAAAQAAAAAAAAAcc3RzYwAAAAAAAAABAAAAAQAAAAUAAAAB\n",
       "AAAAKHN0c3oAAAAAAAAAAAAAAAUAABDeAAAC8wAAAskAAAGfAAABkAAAABRzdGNvAAAAAAAAAAEA\n",
       "AAAsAAAAYnVkdGEAAABabWV0YQAAAAAAAAAhaGRscgAAAAAAAAAAbWRpcmFwcGwAAAAAAAAAAAAA\n",
       "AAAtaWxzdAAAACWpdG9vAAAAHWRhdGEAAAABAAAAAExhdmY1Ni40MC4xMDE=\n",
       "\">\n",
       "  Your browser does not support the video tag.\n",
       "</video>"
      ],
      "text/plain": [
       "<matplotlib.animation.ArtistAnimation at 0x7f5054d69dd8>"
      ]
     },
     "execution_count": 46,
     "metadata": {},
     "output_type": "execute_result"
    }
   ],
   "source": [
    "anim"
   ]
  },
  {
   "cell_type": "code",
   "execution_count": 14,
   "metadata": {},
   "outputs": [
    {
     "name": "stdout",
     "output_type": "stream",
     "text": [
      "19\n",
      "9\n",
      "4\n"
     ]
    },
    {
     "data": {
      "image/png": "[encoded data removed]",
      "text/plain": [
       "<matplotlib.figure.Figure at 0x7f50590f8fd0>"
      ]
     },
     "metadata": {},
     "output_type": "display_data"
    }
   ],
   "source": [
    "data = eco.mapToGrid()\n",
    "eco.plotGrid(data)"
   ]
  },
  {
   "cell_type": "code",
   "execution_count": 15,
   "metadata": {},
   "outputs": [
    {
     "data": {
      "text/plain": [
       "Text(0.5,0,'X')"
      ]
     },
     "execution_count": 15,
     "metadata": {},
     "output_type": "execute_result"
    },
    {
     "data": {
      "image/png": "[encoded data removed]",
      "text/plain": [
       "<matplotlib.figure.Figure at 0x7f5059111f28>"
      ]
     },
     "metadata": {},
     "output_type": "display_data"
    }
   ],
   "source": [
    "plt.imshow(data[::],cmap=cmap)\n",
    "plt.xlabel(\"X\")"
   ]
  },
  {
   "cell_type": "code",
   "execution_count": 16,
   "metadata": {},
   "outputs": [
    {
     "name": "stdout",
     "output_type": "stream",
     "text": [
      "[13, 6]\n",
      "[5, 17]\n",
      "[15, 18]\n",
      "[13, 3]\n",
      "[14, 10]\n"
     ]
    }
   ],
   "source": [
    "for i in range(len(eco.foxes_array)):\n",
    "    print(eco.foxes_array[i].location)\n",
    "    \n",
    "# for i in range(len(eco.rabbits_array)):\n",
    "#     print(eco.rabbits_array[i].location)"
   ]
  },
  {
   "cell_type": "code",
   "execution_count": 17,
   "metadata": {},
   "outputs": [
    {
     "name": "stdout",
     "output_type": "stream",
     "text": [
      "Matching x\n",
      "Matching x\n",
      "Matching x\n",
      "Matching x\n",
      "Matching x\n",
      "Matching x\n",
      "Matching x\n",
      "Matching x\n",
      "Matching x\n",
      "Matching x\n"
     ]
    }
   ],
   "source": [
    "currRabbits = len(eco.rabbits_array)\n",
    "for i in range(currRabbits):\n",
    "    rabbit = eco.rabbits_array[i]\n",
    "    # does the rabbit reproduce\n",
    "    for j in range(currRabbits):\n",
    "        if j != i:\n",
    "            rabbit.interactRabbit(eco.rabbits_array[j], eco.rabbits_array)"
   ]
  },
  {
   "cell_type": "code",
   "execution_count": 18,
   "metadata": {},
   "outputs": [
    {
     "name": "stdout",
     "output_type": "stream",
     "text": [
      "Rabbits\n",
      "Matching x\n",
      "Matching x\n",
      "Matching x\n",
      "Matching x\n",
      "Matching x\n",
      "Matching x\n",
      "Matching x\n",
      "Matching x\n",
      "Matching x\n",
      "Matching x\n",
      "Matching x\n",
      "Matching x\n",
      "Matching x\n",
      "Matching x\n",
      "Matching x\n",
      "Matching x\n",
      "Matching x\n",
      "Matching x\n",
      "Matching x\n",
      "Matching x\n",
      "Matching x\n",
      "Matching x\n",
      "Matching x\n",
      "Matching x\n",
      "Matching x\n",
      "Matching x\n",
      "Matching x\n",
      "Matching x\n",
      "Matching x\n",
      "Matching x\n",
      "Matching x\n",
      "Matching x\n",
      "Matching x\n",
      "Matching x\n",
      "Matching x\n",
      "Matching x\n",
      "Matching x\n",
      "Matching x\n",
      "Matching x\n",
      "Matching x\n",
      "Matching x\n",
      "Matching x\n",
      "Matching x\n",
      "Foxes\n",
      "Matching x\n",
      "Matching x\n",
      "Matching x\n",
      "Matching x\n",
      "Matching x\n",
      "Matching x\n",
      "Matching x\n",
      "Matching x\n",
      "Matching x\n",
      "Matching x\n",
      "Matching x\n",
      "Matching x\n",
      "Matching x\n",
      "Matching x\n",
      "Matching x\n"
     ]
    }
   ],
   "source": [
    "eco.checkInteractions()"
   ]
  },
  {
   "cell_type": "code",
   "execution_count": 19,
   "metadata": {},
   "outputs": [
    {
     "data": {
      "text/plain": [
       "(5, 10, 20)"
      ]
     },
     "execution_count": 19,
     "metadata": {},
     "output_type": "execute_result"
    }
   ],
   "source": [
    "len(eco.foxes_array), len(eco.rabbits_array), len(eco.mush_array)"
   ]
  },
  {
   "cell_type": "code",
   "execution_count": 20,
   "metadata": {},
   "outputs": [],
   "source": [
    "eco.step()"
   ]
  },
  {
   "cell_type": "code",
   "execution_count": 21,
   "metadata": {},
   "outputs": [
    {
     "name": "stdout",
     "output_type": "stream",
     "text": [
      "19\n",
      "9\n",
      "4\n"
     ]
    },
    {
     "data": {
      "image/png": "[encoded data removed]",
      "text/plain": [
       "<matplotlib.figure.Figure at 0x7f5056f57ba8>"
      ]
     },
     "metadata": {},
     "output_type": "display_data"
    }
   ],
   "source": [
    "data = eco.mapToGrid()\n",
    "eco.plotGrid(data)\n",
    "\n",
    "# when a new animal is born, it goes to the same space as its parent\n",
    "# the new born is then never becoming its own creature, and always moves the same as the parent"
   ]
  },
  {
   "cell_type": "code",
   "execution_count": 22,
   "metadata": {},
   "outputs": [],
   "source": [
    "foxes_array, rabbits_array, mush_array = removeTheDead(eco.foxes_array, eco.rabbits_array, eco.mush_array)"
   ]
  },
  {
   "cell_type": "code",
   "execution_count": 23,
   "metadata": {},
   "outputs": [],
   "source": [
    "foxes_array, eDead = hungerCheck(foxes_array)\n",
    "rabbits_array, eDead = hungerCheck(rabbits_array)"
   ]
  },
  {
   "cell_type": "code",
   "execution_count": 24,
   "metadata": {},
   "outputs": [],
   "source": [
    "eco.rabbits_array[2].location = [59,69]\n"
   ]
  },
  {
   "cell_type": "code",
   "execution_count": 25,
   "metadata": {},
   "outputs": [],
   "source": [
    "for fox in foxes_array:\n",
    "    if fox.beStill:\n",
    "        print(\"fox dead\")"
   ]
  },
  {
   "cell_type": "code",
   "execution_count": 26,
   "metadata": {},
   "outputs": [
    {
     "data": {
      "text/plain": [
       "[<__main__.Fox at 0x7f50591db710>,\n",
       " <__main__.Fox at 0x7f50591dbb00>,\n",
       " <__main__.Fox at 0x7f50591dba90>,\n",
       " <__main__.Fox at 0x7f50591dbda0>,\n",
       " <__main__.Fox at 0x7f50591dbdd8>]"
      ]
     },
     "execution_count": 26,
     "metadata": {},
     "output_type": "execute_result"
    }
   ],
   "source": [
    "foxes_array"
   ]
  },
  {
   "cell_type": "code",
   "execution_count": 27,
   "metadata": {},
   "outputs": [
    {
     "name": "stdout",
     "output_type": "stream",
     "text": [
      "no\n"
     ]
    }
   ],
   "source": [
    "x = 10\n",
    "y = 11\n",
    "\n",
    "if x != y:\n",
    "    print(\"no\")"
   ]
  },
  {
   "cell_type": "code",
   "execution_count": 28,
   "metadata": {},
   "outputs": [
    {
     "data": {
      "text/plain": [
       "array([1, 0, 0, 0, 0, 0, 0, 0, 0, 0, 0, 0, 0, 0, 0, 0, 0, 0, 0, 0])"
      ]
     },
     "execution_count": 28,
     "metadata": {},
     "output_type": "execute_result"
    }
   ],
   "source": [
    "data[0]"
   ]
  },
  {
   "cell_type": "code",
   "execution_count": 29,
   "metadata": {},
   "outputs": [],
   "source": [
    "testRabbits = []\n",
    "for i in range(numRabbits):\n",
    "    rabbit = Rabbit(mapSize=rows, stepSize=rabbit_step_size)\n",
    "    testRabbits.append(rabbit)"
   ]
  },
  {
   "cell_type": "code",
   "execution_count": 30,
   "metadata": {},
   "outputs": [],
   "source": [
    "for i in range(len(testRabbits)):\n",
    "    if i % 3 == 0:\n",
    "        testRabbits[i].beStill = True"
   ]
  },
  {
   "cell_type": "code",
   "execution_count": 31,
   "metadata": {},
   "outputs": [
    {
     "name": "stdout",
     "output_type": "stream",
     "text": [
      "dead rab\n",
      "0\n",
      "dead rab\n",
      "3\n",
      "dead rab\n",
      "6\n",
      "dead rab\n",
      "9\n"
     ]
    }
   ],
   "source": [
    "toRemoveF = []\n",
    "for i in range(len(testRabbits)):\n",
    "    rab = testRabbits[i]\n",
    "    if rab.beStill:\n",
    "        print(\"dead rab\")\n",
    "        print(i)\n",
    "        toRemoveF.append(i)"
   ]
  },
  {
   "cell_type": "code",
   "execution_count": 32,
   "metadata": {},
   "outputs": [],
   "source": [
    "testRabbits = [ rabbit for rabbit in testRabbits if not rabbit.beStill]"
   ]
  },
  {
   "cell_type": "code",
   "execution_count": 33,
   "metadata": {},
   "outputs": [
    {
     "data": {
      "text/plain": [
       "6"
      ]
     },
     "execution_count": 33,
     "metadata": {},
     "output_type": "execute_result"
    }
   ],
   "source": [
    "len(testRabbits)"
   ]
  },
  {
   "cell_type": "code",
   "execution_count": 34,
   "metadata": {},
   "outputs": [
    {
     "name": "stdout",
     "output_type": "stream",
     "text": [
      "range(-1, 1)\n"
     ]
    }
   ],
   "source": [
    "sense = 1\n",
    "\n",
    "print(range(-sense, sense))"
   ]
  },
  {
   "cell_type": "code",
   "execution_count": 35,
   "metadata": {},
   "outputs": [
    {
     "name": "stdout",
     "output_type": "stream",
     "text": [
      "-1\n",
      "0\n",
      "1\n"
     ]
    }
   ],
   "source": [
    "for i in range(-sense, sense+1):\n",
    "    print(i)"
   ]
  },
  {
   "cell_type": "code",
   "execution_count": null,
   "metadata": {},
   "outputs": [],
   "source": []
  }
 ],
 "metadata": {
  "kernelspec": {
   "display_name": "Python 3",
   "language": "python",
   "name": "python3"
  },
  "language_info": {
   "codemirror_mode": {
    "name": "ipython",
    "version": 3
   },
   "file_extension": ".py",
   "mimetype": "text/x-python",
   "name": "python",
   "nbconvert_exporter": "python",
   "pygments_lexer": "ipython3",
   "version": "3.6.4"
  }
 },
 "nbformat": 4,
 "nbformat_minor": 2
}
